{
 "cells": [
  {
   "cell_type": "code",
   "execution_count": 6,
   "metadata": {},
   "outputs": [],
   "source": [
    "import requests\n",
    "HOST = \"localhost\"\n",
    "HOSTPORT = 5000"
   ]
  },
  {
   "cell_type": "code",
   "execution_count": 12,
   "metadata": {},
   "outputs": [
    {
     "data": {
      "text/plain": [
       "<Response [200]>"
      ]
     },
     "execution_count": 12,
     "metadata": {},
     "output_type": "execute_result"
    }
   ],
   "source": [
    "requests.post(f\"http://{HOST}:{HOSTPORT}/log\", \\\n",
    "    data=f'{{ \"image\": \"/static/img/adaptive.png\"}}', \\\n",
    ")"
   ]
  }
 ],
 "metadata": {
  "interpreter": {
   "hash": "f049cc9e43de4348d63f7f7a9e3fd33b43b44f634022cd05ed382977f78e6400"
  },
  "kernelspec": {
   "display_name": "Python 3.8.5 ('minimal')",
   "language": "python",
   "name": "python3"
  },
  "language_info": {
   "codemirror_mode": {
    "name": "ipython",
    "version": 3
   },
   "file_extension": ".py",
   "mimetype": "text/x-python",
   "name": "python",
   "nbconvert_exporter": "python",
   "pygments_lexer": "ipython3",
   "version": "3.8.10"
  },
  "orig_nbformat": 4
 },
 "nbformat": 4,
 "nbformat_minor": 2
}
