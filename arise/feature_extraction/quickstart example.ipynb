{
 "cells": [
  {
   "cell_type": "markdown",
   "id": "interracial-mixture",
   "metadata": {},
   "source": [
    "## TSFRESH QUICK START\n",
    "https://tsfresh.readthedocs.io/en/latest/text/quick_start.html  \n",
    "https://tsfresh.readthedocs.io/en/latest/text/list_of_features.html  \n",
    "https://github.com/blue-yonder/tsfresh/tree/main/notebooks/examples  \n",
    "  \n",
    "https://github.com/blue-yonder/tsfresh/blob/main/notebooks/examples/01%20Feature%20Extraction%20and%20Selection.ipynb  \n"
   ]
  },
  {
   "cell_type": "code",
   "execution_count": 5,
   "id": "deadly-workstation",
   "metadata": {},
   "outputs": [
    {
     "name": "stdout",
     "output_type": "stream",
     "text": [
      "   id  time  F_x  F_y  F_z  T_x  T_y  T_z\n",
      "0   1     0   -1   -1   63   -3   -1    0\n",
      "1   1     1    0    0   62   -3   -1    0\n",
      "2   1     2   -1   -1   61   -3    0    0\n",
      "3   1     3   -1   -1   63   -2   -1    0\n",
      "4   1     4   -1   -1   63   -3   -1    0\n"
     ]
    },
    {
     "data": {
      "text/html": [
       "<div>\n",
       "<style scoped>\n",
       "    .dataframe tbody tr th:only-of-type {\n",
       "        vertical-align: middle;\n",
       "    }\n",
       "\n",
       "    .dataframe tbody tr th {\n",
       "        vertical-align: top;\n",
       "    }\n",
       "\n",
       "    .dataframe thead th {\n",
       "        text-align: right;\n",
       "    }\n",
       "</style>\n",
       "<table border=\"1\" class=\"dataframe\">\n",
       "  <thead>\n",
       "    <tr style=\"text-align: right;\">\n",
       "      <th></th>\n",
       "      <th>id</th>\n",
       "      <th>time</th>\n",
       "      <th>F_x</th>\n",
       "      <th>F_y</th>\n",
       "      <th>F_z</th>\n",
       "      <th>T_x</th>\n",
       "      <th>T_y</th>\n",
       "      <th>T_z</th>\n",
       "    </tr>\n",
       "  </thead>\n",
       "  <tbody>\n",
       "    <tr>\n",
       "      <th>count</th>\n",
       "      <td>1320.000000</td>\n",
       "      <td>1320.000000</td>\n",
       "      <td>1320.000000</td>\n",
       "      <td>1320.000000</td>\n",
       "      <td>1320.000000</td>\n",
       "      <td>1320.000000</td>\n",
       "      <td>1320.000000</td>\n",
       "      <td>1320.000000</td>\n",
       "    </tr>\n",
       "    <tr>\n",
       "      <th>mean</th>\n",
       "      <td>44.500000</td>\n",
       "      <td>7.000000</td>\n",
       "      <td>-2.345455</td>\n",
       "      <td>8.913636</td>\n",
       "      <td>-128.214394</td>\n",
       "      <td>-39.028030</td>\n",
       "      <td>-4.517424</td>\n",
       "      <td>0.868182</td>\n",
       "    </tr>\n",
       "    <tr>\n",
       "      <th>std</th>\n",
       "      <td>25.411399</td>\n",
       "      <td>4.322131</td>\n",
       "      <td>50.367960</td>\n",
       "      <td>45.845475</td>\n",
       "      <td>346.816091</td>\n",
       "      <td>147.269399</td>\n",
       "      <td>101.609308</td>\n",
       "      <td>18.317250</td>\n",
       "    </tr>\n",
       "    <tr>\n",
       "      <th>min</th>\n",
       "      <td>1.000000</td>\n",
       "      <td>0.000000</td>\n",
       "      <td>-260.000000</td>\n",
       "      <td>-353.000000</td>\n",
       "      <td>-1547.000000</td>\n",
       "      <td>-672.000000</td>\n",
       "      <td>-646.000000</td>\n",
       "      <td>-137.000000</td>\n",
       "    </tr>\n",
       "    <tr>\n",
       "      <th>25%</th>\n",
       "      <td>22.750000</td>\n",
       "      <td>3.000000</td>\n",
       "      <td>-4.000000</td>\n",
       "      <td>-2.000000</td>\n",
       "      <td>-117.250000</td>\n",
       "      <td>-39.250000</td>\n",
       "      <td>-13.000000</td>\n",
       "      <td>-1.000000</td>\n",
       "    </tr>\n",
       "    <tr>\n",
       "      <th>50%</th>\n",
       "      <td>44.500000</td>\n",
       "      <td>7.000000</td>\n",
       "      <td>-1.000000</td>\n",
       "      <td>1.000000</td>\n",
       "      <td>46.000000</td>\n",
       "      <td>-9.000000</td>\n",
       "      <td>-3.000000</td>\n",
       "      <td>0.000000</td>\n",
       "    </tr>\n",
       "    <tr>\n",
       "      <th>75%</th>\n",
       "      <td>66.250000</td>\n",
       "      <td>11.000000</td>\n",
       "      <td>3.000000</td>\n",
       "      <td>11.000000</td>\n",
       "      <td>60.000000</td>\n",
       "      <td>-1.000000</td>\n",
       "      <td>3.000000</td>\n",
       "      <td>2.000000</td>\n",
       "    </tr>\n",
       "    <tr>\n",
       "      <th>max</th>\n",
       "      <td>88.000000</td>\n",
       "      <td>14.000000</td>\n",
       "      <td>342.000000</td>\n",
       "      <td>236.000000</td>\n",
       "      <td>157.000000</td>\n",
       "      <td>686.000000</td>\n",
       "      <td>601.000000</td>\n",
       "      <td>123.000000</td>\n",
       "    </tr>\n",
       "  </tbody>\n",
       "</table>\n",
       "</div>"
      ],
      "text/plain": [
       "                id         time          F_x          F_y          F_z  \\\n",
       "count  1320.000000  1320.000000  1320.000000  1320.000000  1320.000000   \n",
       "mean     44.500000     7.000000    -2.345455     8.913636  -128.214394   \n",
       "std      25.411399     4.322131    50.367960    45.845475   346.816091   \n",
       "min       1.000000     0.000000  -260.000000  -353.000000 -1547.000000   \n",
       "25%      22.750000     3.000000    -4.000000    -2.000000  -117.250000   \n",
       "50%      44.500000     7.000000    -1.000000     1.000000    46.000000   \n",
       "75%      66.250000    11.000000     3.000000    11.000000    60.000000   \n",
       "max      88.000000    14.000000   342.000000   236.000000   157.000000   \n",
       "\n",
       "               T_x          T_y          T_z  \n",
       "count  1320.000000  1320.000000  1320.000000  \n",
       "mean    -39.028030    -4.517424     0.868182  \n",
       "std     147.269399   101.609308    18.317250  \n",
       "min    -672.000000  -646.000000  -137.000000  \n",
       "25%     -39.250000   -13.000000    -1.000000  \n",
       "50%      -9.000000    -3.000000     0.000000  \n",
       "75%      -1.000000     3.000000     2.000000  \n",
       "max     686.000000   601.000000   123.000000  "
      ]
     },
     "execution_count": 5,
     "metadata": {},
     "output_type": "execute_result"
    }
   ],
   "source": [
    "from tsfresh.examples.robot_execution_failures import download_robot_execution_failures, load_robot_execution_failures\n",
    "\n",
    "download_robot_execution_failures()\n",
    "timeseries, y = load_robot_execution_failures()\n",
    "\n",
    "print(timeseries.head())\n",
    "\n",
    "timeseries.describe()\n"
   ]
  },
  {
   "cell_type": "code",
   "execution_count": 2,
   "id": "atomic-brake",
   "metadata": {
    "scrolled": true
   },
   "outputs": [
    {
     "name": "stdout",
     "output_type": "stream",
     "text": [
      "1      True\n",
      "2      True\n",
      "3      True\n",
      "4      True\n",
      "5      True\n",
      "      ...  \n",
      "84    False\n",
      "85    False\n",
      "86    False\n",
      "87    False\n",
      "88    False\n",
      "Length: 88, dtype: bool\n"
     ]
    }
   ],
   "source": [
    "print(y) # y contains the information which robot id reported a failure and which not:"
   ]
  },
  {
   "cell_type": "markdown",
   "id": "bright-microwave",
   "metadata": {},
   "source": [
    "The first column is the DataFrame index and has no meaning here. There are six different time series **(F<sub>x</sub>, F<sub>y</sub>, F<sub>z</sub>, T<sub>x</sub>, T<sub>y</sub>, T<sub>z</sub>)** for the different sensors. The different robots are denoted by the ids column.  \n",
    "\n",
    "On the other hand, **F<sub>y</sub>** contains the information which robot ID reported a failure and which did not.  \n",
    "In the following we illustrate the time series of the sample id 3 reporting no failure, and for ID 20 reporting a failure:"
   ]
  },
  {
   "cell_type": "code",
   "execution_count": null,
   "id": "affiliated-gambling",
   "metadata": {},
   "outputs": [],
   "source": [
    "import matplotlib.pyplot as plt\n",
    "%matplotlib inline\n",
    "timeseries[timeseries['id'] == 3].plot(subplots=True, sharex=True, figsize=(10,20))\n",
    "plt.show()\n",
    "\n",
    "timeseries[timeseries['id'] == 20].plot(subplots=True, sharex=True, figsize=(10,20))\n",
    "plt.show()"
   ]
  },
  {
   "cell_type": "code",
   "execution_count": 3,
   "id": "relevant-series",
   "metadata": {
    "scrolled": false
   },
   "outputs": [
    {
     "name": "stderr",
     "output_type": "stream",
     "text": [
      "Feature Extraction: 100%|██████████| 38/38 [00:03<00:00,  8.33it/s]\n"
     ]
    }
   ],
   "source": [
    "# To extract features, we do:\n",
    "\n",
    "from tsfresh import extract_features\n",
    "extracted_features = extract_features(timeseries, column_id=\"id\", column_sort=\"time\")"
   ]
  },
  {
   "cell_type": "markdown",
   "id": "controlled-retirement",
   "metadata": {},
   "source": [
    "You end up with a DataFrame extracted_features with all more than 1200 different  \n",
    "extracted features. We will now remove all NaN values (that were created by feature  \n",
    "calculators, than can not be used on the given data, e.g. because it has too low  \n",
    "statistics) and select only the relevant features next:  "
   ]
  },
  {
   "cell_type": "code",
   "execution_count": 4,
   "id": "hungarian-lincoln",
   "metadata": {},
   "outputs": [
    {
     "name": "stderr",
     "output_type": "stream",
     "text": [
      "/users/jknof/miniconda3/envs/arise/lib/python3.6/site-packages/tsfresh/utilities/dataframe_functions.py:172: RuntimeWarning: The columns ['F_x__partial_autocorrelation__lag_7'\n",
      " 'F_x__partial_autocorrelation__lag_8'\n",
      " 'F_x__partial_autocorrelation__lag_9' ...\n",
      " 'T_z__agg_linear_trend__attr_\"stderr\"__chunk_len_50__f_agg_\"min\"'\n",
      " 'T_z__agg_linear_trend__attr_\"stderr\"__chunk_len_50__f_agg_\"mean\"'\n",
      " 'T_z__agg_linear_trend__attr_\"stderr\"__chunk_len_50__f_agg_\"var\"'] did not have any finite values. Filling with zeros.\n",
      "  df.iloc[:, np.where(is_col_non_finite)[0]].columns.values), RuntimeWarning)\n"
     ]
    },
    {
     "name": "stdout",
     "output_type": "stream",
     "text": [
      "    F_x__value_count__value_-1  F_x__abs_energy  \\\n",
      "1                         14.0             14.0   \n",
      "2                          7.0             25.0   \n",
      "3                         11.0             12.0   \n",
      "4                          5.0             16.0   \n",
      "5                          9.0             17.0   \n",
      "..                         ...              ...   \n",
      "84                         0.0          96833.0   \n",
      "85                         0.0           1683.0   \n",
      "86                         0.0          83497.0   \n",
      "87                         0.0        1405437.0   \n",
      "88                         0.0           1427.0   \n",
      "\n",
      "    F_x__range_count__max_1__min_-1  F_y__abs_energy  T_y__variance  \\\n",
      "1                              15.0             13.0       0.222222   \n",
      "2                              13.0             76.0       4.222222   \n",
      "3                              14.0             40.0       3.128889   \n",
      "4                              10.0             60.0       7.128889   \n",
      "5                              13.0             46.0       4.160000   \n",
      "..                              ...              ...            ...   \n",
      "84                              0.0          42780.0    1563.528889   \n",
      "85                              0.0           1523.0      14.755556   \n",
      "86                              0.0          21064.0    2788.595556   \n",
      "87                              0.0         308658.0    6415.715556   \n",
      "88                              0.0            113.0       6.906667   \n",
      "\n",
      "    T_y__standard_deviation  F_x__fft_coefficient__attr_\"abs\"__coeff_1  \\\n",
      "1                  0.471405                                   1.000000   \n",
      "2                  2.054805                                   0.624118   \n",
      "3                  1.768867                                   2.203858   \n",
      "4                  2.669998                                   0.844394   \n",
      "5                  2.039608                                   2.730599   \n",
      "..                      ...                                        ...   \n",
      "84                39.541483                                 359.248162   \n",
      "85                 3.841296                                  36.770027   \n",
      "86                52.807154                                 312.044052   \n",
      "87                80.098162                                 481.046930   \n",
      "88                 2.628054                                  15.524355   \n",
      "\n",
      "    T_y__fft_coefficient__attr_\"abs\"__coeff_1  T_y__abs_energy  \\\n",
      "1                                    1.165352             10.0   \n",
      "2                                    6.020261             90.0   \n",
      "3                                    8.235442            103.0   \n",
      "4                                   12.067855            124.0   \n",
      "5                                    6.445330            180.0   \n",
      "..                                        ...              ...   \n",
      "84                                 309.190088         171261.0   \n",
      "85                                  26.631007            503.0   \n",
      "86                                 429.697740         118013.0   \n",
      "87                                 683.196535        2430295.0   \n",
      "88                                  16.768541           7630.0   \n",
      "\n",
      "    F_z__standard_deviation  ...  \\\n",
      "1                  1.203698  ...   \n",
      "2                  4.333846  ...   \n",
      "3                  4.616877  ...   \n",
      "4                  3.833188  ...   \n",
      "5                  4.841487  ...   \n",
      "..                      ...  ...   \n",
      "84               291.988082  ...   \n",
      "85                14.501494  ...   \n",
      "86               121.420189  ...   \n",
      "87               204.966621  ...   \n",
      "88                10.627010  ...   \n",
      "\n",
      "    T_x__change_quantiles__f_agg_\"var\"__isabs_True__qh_0.2__ql_0.0  \\\n",
      "1                                            0.000000                \n",
      "2                                            0.000000                \n",
      "3                                            0.000000                \n",
      "4                                            0.000000                \n",
      "5                                            0.000000                \n",
      "..                                                ...                \n",
      "84                                          64.000000                \n",
      "85                                           4.666667                \n",
      "86                                           0.250000                \n",
      "87                                           0.000000                \n",
      "88                                           4.666667                \n",
      "\n",
      "    F_z__change_quantiles__f_agg_\"mean\"__isabs_True__qh_1.0__ql_0.8  \\\n",
      "1                                                 0.0                 \n",
      "2                                                 1.0                 \n",
      "3                                                 3.0                 \n",
      "4                                                 0.0                 \n",
      "5                                                 0.0                 \n",
      "..                                                ...                 \n",
      "84                                               46.0                 \n",
      "85                                                4.5                 \n",
      "86                                                7.0                 \n",
      "87                                               90.5                 \n",
      "88                                                0.0                 \n",
      "\n",
      "    T_x__quantile__q_0.1  F_y__has_duplicate_max  \\\n",
      "1                   -3.0                     1.0   \n",
      "2                   -9.2                     1.0   \n",
      "3                   -6.6                     0.0   \n",
      "4                   -9.0                     0.0   \n",
      "5                   -9.6                     0.0   \n",
      "..                   ...                     ...   \n",
      "84                 203.2                     0.0   \n",
      "85                 -41.6                     0.0   \n",
      "86                 -84.8                     0.0   \n",
      "87                -139.2                     0.0   \n",
      "88                 -24.6                     0.0   \n",
      "\n",
      "    F_y__cwt_coefficients__coeff_14__w_5__widths_(2, 5, 10, 20)  \\\n",
      "1                                           -0.751682             \n",
      "2                                            0.057818             \n",
      "3                                            0.912474             \n",
      "4                                           -0.609735             \n",
      "5                                            0.072771             \n",
      "..                                                ...             \n",
      "84                                          71.641254             \n",
      "85                                          16.349699             \n",
      "86                                          71.095480             \n",
      "87                                         173.699573             \n",
      "88                                           3.226801             \n",
      "\n",
      "    F_y__cwt_coefficients__coeff_13__w_2__widths_(2, 5, 10, 20)  \\\n",
      "1                                           -0.310265             \n",
      "2                                           -0.202951             \n",
      "3                                            0.539121             \n",
      "4                                           -2.641390             \n",
      "5                                            0.591927             \n",
      "..                                                ...             \n",
      "84                                          38.559593             \n",
      "85                                          14.429645             \n",
      "86                                          60.760842             \n",
      "87                                         109.029954             \n",
      "88                                           2.455593             \n",
      "\n",
      "    T_y__quantile__q_0.1  F_z__time_reversal_asymmetry_statistic__lag_1  \\\n",
      "1                   -1.0                                  -5.960000e+02   \n",
      "2                   -3.6                                  -6.803846e+02   \n",
      "3                   -4.0                                  -6.170000e+02   \n",
      "4                   -4.6                                   3.426308e+03   \n",
      "5                   -5.0                                  -2.609000e+03   \n",
      "..                   ...                                            ...   \n",
      "84                  36.4                                  -7.700628e+07   \n",
      "85                   1.0                                  -1.050785e+04   \n",
      "86                  19.6                                  -5.544922e+06   \n",
      "87                 272.6                                  -9.881845e+07   \n",
      "88                 -26.2                                  -1.340477e+04   \n",
      "\n",
      "    F_x__quantile__q_0.2  F_y__quantile__q_0.7  \n",
      "1                   -1.0                  -1.0  \n",
      "2                   -1.0                  -1.0  \n",
      "3                   -1.0                   0.0  \n",
      "4                   -1.0                   1.0  \n",
      "5                   -1.0                   0.8  \n",
      "..                   ...                   ...  \n",
      "84                -105.0                  66.8  \n",
      "85                   5.8                  10.6  \n",
      "86                  30.4                  38.4  \n",
      "87                 246.8                 154.8  \n",
      "88                 -11.2                   3.0  \n",
      "\n",
      "[88 rows x 671 columns]\n"
     ]
    }
   ],
   "source": [
    "from tsfresh import select_features\n",
    "from tsfresh.utilities.dataframe_functions import impute\n",
    "\n",
    "impute(extracted_features)\n",
    "features_filtered = select_features(extracted_features, y)\n",
    "\n",
    "print(features_filtered)"
   ]
  },
  {
   "cell_type": "code",
   "execution_count": null,
   "id": "attended-utility",
   "metadata": {
    "scrolled": true
   },
   "outputs": [],
   "source": [
    "# Only around 300 features were classified as relevant enough.\n",
    "# Further, you can even perform the extraction, imputing and \n",
    "# filtering at the same time with the \n",
    "# tsfresh.extract_relevant_features() function:\n",
    "\n",
    "from tsfresh import extract_relevant_features\n",
    "features_filtered_direct = extract_relevant_features(timeseries, y, column_id='id', column_sort='time')"
   ]
  },
  {
   "cell_type": "markdown",
   "id": "reasonable-example",
   "metadata": {},
   "source": [
    "Let's try visualizing some of this data.  \n",
    "https://github.com/blue-yonder/tsfresh/blob/main/notebooks/examples/01%20Feature%20Extraction%20and%20Selection.ipynb  "
   ]
  },
  {
   "cell_type": "code",
   "execution_count": null,
   "id": "private-modification",
   "metadata": {},
   "outputs": [],
   "source": [
    "%matplotlib inline\n",
    "import matplotlib.pylab as plt\n",
    "\n",
    "from tsfresh import extract_features, extract_relevant_features, select_features\n",
    "from tsfresh.utilities.dataframe_functions import impute\n",
    "from tsfresh.feature_extraction import ComprehensiveFCParameters\n",
    "\n",
    "from sklearn.tree import DecisionTreeClassifier\n",
    "from sklearn.model_selection import train_test_split\n",
    "from sklearn.metrics import classification_report"
   ]
  },
  {
   "cell_type": "code",
   "execution_count": null,
   "id": "departmental-shopper",
   "metadata": {},
   "outputs": [],
   "source": [
    "from tsfresh.examples import robot_execution_failures\n",
    "\n",
    "robot_execution_failures.download_robot_execution_failures()\n",
    "df, y = robot_execution_failures.load_robot_execution_failures()\n",
    "df.head()"
   ]
  },
  {
   "cell_type": "code",
   "execution_count": null,
   "id": "removable-mentor",
   "metadata": {},
   "outputs": [],
   "source": [
    "# Let's draw some features.\n",
    "\n",
    "df[df.id == 3][['time', 'F_x', 'F_y', 'F_z', 'T_x', 'T_y', 'T_z']].plot(x='time', title='Success example (id 3)', figsize=(12, 6));\n",
    "df[df.id == 20][['time', 'F_x', 'F_y', 'F_z', 'T_x', 'T_y', 'T_z']].plot(x='time', title='Failure example (id 20)', figsize=(12, 6));"
   ]
  },
  {
   "cell_type": "markdown",
   "id": "improving-accident",
   "metadata": {},
   "source": [
    "### Feature Extraction"
   ]
  },
  {
   "cell_type": "code",
   "execution_count": null,
   "id": "announced-budget",
   "metadata": {},
   "outputs": [],
   "source": [
    "# We are very explicit here and specify the `default_fc_parameters`. If you remove this argument,\n",
    "# the ComprehensiveFCParameters (= all feature calculators) will also be used as default.\n",
    "# Have a look into the documentation (https://tsfresh.readthedocs.io/en/latest/text/feature_extraction_settings.html)\n",
    "# or one of the other notebooks to learn more about this.\n",
    "extraction_settings = ComprehensiveFCParameters()\n",
    "\n",
    "X = extract_features(df, column_id='id', column_sort='time',\n",
    "                     default_fc_parameters=extraction_settings,\n",
    "                     # we impute = remove all NaN features automatically\n",
    "                     impute_function=impute)"
   ]
  },
  {
   "cell_type": "code",
   "execution_count": null,
   "id": "suspended-alias",
   "metadata": {},
   "outputs": [],
   "source": [
    "X.head()"
   ]
  },
  {
   "cell_type": "markdown",
   "id": "handy-brunswick",
   "metadata": {},
   "source": [
    "### Feature Selection"
   ]
  },
  {
   "cell_type": "code",
   "execution_count": null,
   "id": "boxed-robert",
   "metadata": {
    "scrolled": true
   },
   "outputs": [],
   "source": [
    "X_filtered = select_features(X, y)\n",
    "X_filtered.head()"
   ]
  },
  {
   "cell_type": "markdown",
   "id": "noble-gross",
   "metadata": {},
   "source": [
    "### Train and Evaluate Classifier"
   ]
  },
  {
   "cell_type": "code",
   "execution_count": null,
   "id": "limited-reverse",
   "metadata": {},
   "outputs": [],
   "source": [
    "# Train\n",
    "X_full_train, X_full_test, y_train, y_test = train_test_split(X, y, test_size=.4)\n",
    "X_filtered_train, X_filtered_test = X_full_train[X_filtered.columns], X_full_test[X_filtered.columns]\n",
    "\n",
    "# Evaluate\n",
    "classifier_full = DecisionTreeClassifier()\n",
    "classifier_full.fit(X_full_train, y_train)\n",
    "print(classification_report(y_test, classifier_full.predict(X_full_test)))"
   ]
  },
  {
   "cell_type": "code",
   "execution_count": null,
   "id": "perfect-accident",
   "metadata": {},
   "outputs": [],
   "source": [
    "# Compared to using all features (classifier_full), using only the relevant \n",
    "# features (classifier_filtered) achieves better classification performance with less data.\n",
    "\n",
    "classifier_filtered = DecisionTreeClassifier()\n",
    "classifier_filtered.fit(X_filtered_train, y_train)\n",
    "print(classification_report(y_test, classifier_filtered.predict(X_filtered_test)))"
   ]
  },
  {
   "cell_type": "code",
   "execution_count": null,
   "id": "reverse-miller",
   "metadata": {
    "scrolled": false
   },
   "outputs": [],
   "source": [
    "# Above, we performed the feature extraction and selection independently. \n",
    "# If you are only interested in the list of selected features, you can run this in one step:\n",
    "X_filtered_2 = extract_relevant_features(df, y, column_id='id', column_sort='time', default_fc_parameters=extraction_settings)\n",
    "\n",
    "(X_filtered.columns == X_filtered_2.columns).all()\n"
   ]
  },
  {
   "cell_type": "code",
   "execution_count": null,
   "id": "adopted-corpus",
   "metadata": {},
   "outputs": [],
   "source": []
  }
 ],
 "metadata": {
  "kernelspec": {
   "display_name": "arise",
   "language": "python",
   "name": "arise"
  },
  "language_info": {
   "codemirror_mode": {
    "name": "ipython",
    "version": 3
   },
   "file_extension": ".py",
   "mimetype": "text/x-python",
   "name": "python",
   "nbconvert_exporter": "python",
   "pygments_lexer": "ipython3",
   "version": "3.6.12"
  }
 },
 "nbformat": 4,
 "nbformat_minor": 5
}
